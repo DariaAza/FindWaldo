{
 "cells": [
  {
   "cell_type": "code",
   "execution_count": 2,
   "metadata": {},
   "outputs": [],
   "source": [
    "import tensorflow as tf\n",
    "from tensorflow.keras.models import Sequential\n",
    "from tensorflow.keras.layers import Dense, Conv2D, Flatten, Dropout, MaxPooling2D\n",
    "from tensorflow.keras.preprocessing.image import ImageDataGenerator\n",
    "\n",
    "import os\n",
    "import numpy as np\n",
    "import matplotlib.pyplot as plt\n",
    "import shutil"
   ]
  },
  {
   "cell_type": "code",
   "execution_count": 25,
   "metadata": {},
   "outputs": [],
   "source": [
    "folders = ['64', '64-bw', '64-gray', '256', '256-gray', '256-bw', '128', '128-gray', '128-bw']\n",
    "\n",
    "for a in folders:\n",
    "    i=0\n",
    "    for filename in os.listdir(f'Hey-Waldo/{a}/waldo'):\n",
    "        dst =a + str(i) + \".jpg\"\n",
    "        src =f'Hey-Waldo/{a}/waldo/'+ filename \n",
    "        dst =f'Hey-Waldo/{a}/waldo/'+ dst \n",
    "          \n",
    "        # rename() function will \n",
    "        # rename all the files \n",
    "        os.rename(src, dst) \n",
    "        i += 1\n",
    "    "
   ]
  },
  {
   "cell_type": "code",
   "execution_count": 26,
   "metadata": {},
   "outputs": [],
   "source": [
    "for a in folders:\n",
    "    i=0\n",
    "    for filename in os.listdir(f'Hey-Waldo/{a}/notwaldo'):\n",
    "        dst =a + str(i) + \".jpg\"\n",
    "        src =f'Hey-Waldo/{a}/notwaldo/'+ filename \n",
    "        dst =f'Hey-Waldo/{a}/notwaldo/'+ dst \n",
    "          \n",
    "        # rename() function will \n",
    "        # rename all the files \n",
    "        os.rename(src, dst) \n",
    "        i += 1"
   ]
  },
  {
   "cell_type": "code",
   "execution_count": 36,
   "metadata": {},
   "outputs": [
    {
     "name": "stdout",
     "output_type": "stream",
     "text": [
      "Total images:  269\n",
      "Training:  242\n",
      "Validation:  13\n",
      "Testing:  14\n",
      "Total images:  20528\n",
      "Training:  18475\n",
      "Validation:  1026\n",
      "Testing:  1027\n"
     ]
    }
   ],
   "source": [
    "# Creating Train / Val / Test folders (One time use)\n",
    "root_dir = 'Hey-Waldo/waldoAll'\n",
    "classes_dir = ['/waldo', '/notwaldo']\n",
    "\n",
    "val_ratio = 0.15\n",
    "test_ratio = 0.05\n",
    "\n",
    "for cls in classes_dir:\n",
    "    os.makedirs(root_dir +'/train' + cls)\n",
    "    os.makedirs(root_dir +'/val' + cls)\n",
    "    os.makedirs(root_dir +'/test' + cls)\n",
    "    # Creating partitions of the data after shuffeling\n",
    "    src = root_dir + cls # Folder to copy images from\n",
    "\n",
    "    allFileNames = os.listdir(src)\n",
    "    np.random.shuffle(allFileNames)\n",
    "    train_FileNames, val_FileNames, test_FileNames = np.split(np.array(allFileNames),\n",
    "                                                              [int(len(allFileNames)* (1 - val_ratio + test_ratio)), \n",
    "                                                               int(len(allFileNames)* (1 - test_ratio))])\n",
    "\n",
    "\n",
    "    train_FileNames = [src+'/'+ name for name in train_FileNames.tolist()]\n",
    "    val_FileNames = [src+'/' + name for name in val_FileNames.tolist()]\n",
    "    test_FileNames = [src+'/' + name for name in test_FileNames.tolist()]\n",
    "\n",
    "    print('Total images: ', len(allFileNames))\n",
    "    print('Training: ', len(train_FileNames))\n",
    "    print('Validation: ', len(val_FileNames))\n",
    "    print('Testing: ', len(test_FileNames))\n",
    "\n",
    "    # Copy-pasting images\n",
    "    for name in train_FileNames:\n",
    "        if name[-1]=='g':\n",
    "            shutil.copy(name, root_dir +'/train' + cls)\n",
    "\n",
    "    for name in val_FileNames:\n",
    "        if name[-1]=='g':\n",
    "            shutil.copy(name, root_dir +'/val' + cls)\n",
    "\n",
    "    for name in test_FileNames:\n",
    "        if name[-1]=='g':\n",
    "            shutil.copy(name, root_dir +'/test' + cls)"
   ]
  },
  {
   "cell_type": "code",
   "execution_count": null,
   "metadata": {},
   "outputs": [],
   "source": []
  }
 ],
 "metadata": {
  "kernelspec": {
   "display_name": "Python 3",
   "language": "python",
   "name": "python3"
  },
  "language_info": {
   "codemirror_mode": {
    "name": "ipython",
    "version": 3
   },
   "file_extension": ".py",
   "mimetype": "text/x-python",
   "name": "python",
   "nbconvert_exporter": "python",
   "pygments_lexer": "ipython3",
   "version": "3.6.10"
  }
 },
 "nbformat": 4,
 "nbformat_minor": 4
}
